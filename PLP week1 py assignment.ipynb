{
 "cells": [
  {
   "cell_type": "code",
   "execution_count": 7,
   "id": "46d09ffb-d8d2-444f-ba6b-93439c7dafd1",
   "metadata": {},
   "outputs": [
    {
     "name": "stdin",
     "output_type": "stream",
     "text": [
      "Enter the first number:  96\n"
     ]
    }
   ],
   "source": [
    "# Ask the user for the first number\n",
    "numb1 = float(input(\"Enter the first number: \"))"
   ]
  },
  {
   "cell_type": "code",
   "execution_count": 8,
   "id": "b49fde33-02da-4618-8d8b-20358f12c8a0",
   "metadata": {},
   "outputs": [
    {
     "name": "stdin",
     "output_type": "stream",
     "text": [
      "Enter the second number:  34\n"
     ]
    }
   ],
   "source": [
    "# Ask the user for the second number\n",
    "numb2 = float(input(\"Enter the second number: \"))"
   ]
  },
  {
   "cell_type": "code",
   "execution_count": 9,
   "id": "3ccd252b-c293-45cd-9f7c-c91d53598822",
   "metadata": {},
   "outputs": [
    {
     "name": "stdin",
     "output_type": "stream",
     "text": [
      "Enter operation (+, -, *, /):  -\n"
     ]
    }
   ],
   "source": [
    "# Ask for the operation\n",
    "operation = input(\"Enter operation (+, -, *, /): \")"
   ]
  },
  {
   "cell_type": "code",
   "execution_count": 13,
   "id": "8a632118-fb5d-4fc9-b33b-fde600e80c83",
   "metadata": {},
   "outputs": [],
   "source": [
    "# Use if statements to decide which operation to perform\n",
    "if operation == '+':              # If the user typed +\n",
    "    result = numb1 + numb2          # Add the numbers\n",
    "\n",
    "elif operation == '-':            # Else if they typed -\n",
    "    result = numb1 - numb2          # Subtract\n",
    "\n",
    "elif operation == '*':            # Else if they typed *\n",
    "    result = numb1 * numb2          # Multiply\n",
    "\n",
    "elif operation == '/':            # Else if they typed /\n",
    "    if num2 != 0:                 # Make sure the second number is not zero\n",
    "        result = numb1 / numb2      # Divide\n",
    "    else:\n",
    "        result = \"Error: Cannot divide by zero\"\n",
    "\n",
    "else:\n",
    "    result = \"Invalid operation\"  # If none of the above, it's not a valid operation\n"
   ]
  },
  {
   "cell_type": "code",
   "execution_count": 16,
   "id": "1044822b-bc02-4159-9724-2f9646695923",
   "metadata": {},
   "outputs": [
    {
     "name": "stdout",
     "output_type": "stream",
     "text": [
      "96.0 - 34.0 = 62.0\n"
     ]
    }
   ],
   "source": [
    "#  Print the result\n",
    "print(f\"{numb1} {operation} {numb2} = {result}\")"
   ]
  },
  {
   "cell_type": "code",
   "execution_count": null,
   "id": "40b690d9-977a-4530-ac21-1ab33ee323d6",
   "metadata": {},
   "outputs": [],
   "source": []
  }
 ],
 "metadata": {
  "kernelspec": {
   "display_name": "Python 3 (ipykernel)",
   "language": "python",
   "name": "python3"
  },
  "language_info": {
   "codemirror_mode": {
    "name": "ipython",
    "version": 3
   },
   "file_extension": ".py",
   "mimetype": "text/x-python",
   "name": "python",
   "nbconvert_exporter": "python",
   "pygments_lexer": "ipython3",
   "version": "3.12.7"
  }
 },
 "nbformat": 4,
 "nbformat_minor": 5
}
